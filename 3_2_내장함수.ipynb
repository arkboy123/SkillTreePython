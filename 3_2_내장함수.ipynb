{
  "nbformat": 4,
  "nbformat_minor": 0,
  "metadata": {
    "colab": {
      "name": "3-2.내장함수.ipynb",
      "provenance": [],
      "toc_visible": true,
      "include_colab_link": true
    },
    "kernelspec": {
      "name": "python3",
      "display_name": "Python 3"
    },
    "language_info": {
      "name": "python"
    }
  },
  "cells": [
    {
      "cell_type": "markdown",
      "metadata": {
        "id": "view-in-github",
        "colab_type": "text"
      },
      "source": [
        "<a href=\"https://colab.research.google.com/github/arkboy123/SkillTreePython/blob/main/3_2_%EB%82%B4%EC%9E%A5%ED%95%A8%EC%88%98.ipynb\" target=\"_parent\"><img src=\"https://colab.research.google.com/assets/colab-badge.svg\" alt=\"Open In Colab\"/></a>"
      ]
    },
    {
      "cell_type": "markdown",
      "source": [
        "# 3-2. 내장함수 \n",
        "---\n",
        "* 날짜:\n",
        "* 이름:"
      ],
      "metadata": {
        "id": "kB5IciXEm6o4"
      }
    },
    {
      "cell_type": "markdown",
      "source": [
        "## 개념정리\n",
        "---\n",
        "\n",
        "자료형을 배우면서 우리는 여러가지 내장함수에 대해서도 같이 배워봤습니다. 모든 값을 더하는 `sum()`, 최대값을 구하는 `max()`등 이제는 여러분이 친숙하게 알고 있는 이 함수들이 모두 파이썬에서 이미 만들어 놓은 내장함수 입니다. 내장 함수는 이 외에도 더 많습니다. 그 중에서도 우리가 아직 배우지 않았지만 중요한 함수 몇개를 추가로 배워보도록 하겠습니다. \n",
        "\n",
        "* `dir`\n",
        "* `eval`\n",
        "* `filter`\n",
        "* `map`\n",
        "* `lambda`"
      ],
      "metadata": {
        "id": "4iN8NFzHRJ2D"
      }
    },
    {
      "cell_type": "markdown",
      "source": [
        "### **(1) dir**\n",
        "\n",
        "이 함수는 각 자료형이 가지고 있는 변수나 함수를 보여줍니다. 우리는 앞에서 각 자료형들에 관련된 여러가지 함수들을 배워 봤습니다. \n",
        "\n",
        "예를 들어 딕셔너리 자료형에는 key 값을 얻는 `.keys` 나 value 값을 반환하는 `.values` 가 있었습니다. \n",
        "\n",
        "아래 코드를 실행하여 이를 확인해 봅시다. \n",
        "\n",
        "\n",
        "```\n",
        "my_dict = {1:'a', 2:'b'}\n",
        "dir(my_dict)\n",
        "```"
      ],
      "metadata": {
        "id": "MAM8MDnfw68b"
      }
    },
    {
      "cell_type": "code",
      "source": [
        "my_dict = {1:'a', 2:'b'}\n",
        "dir(my_dict)"
      ],
      "metadata": {
        "id": "Flo7sT5YV-7W",
        "outputId": "8c14a7c4-4be0-419f-c33d-d3aeccbf084f",
        "colab": {
          "base_uri": "https://localhost:8080/"
        }
      },
      "execution_count": null,
      "outputs": [
        {
          "output_type": "execute_result",
          "data": {
            "text/plain": [
              "['__class__',\n",
              " '__contains__',\n",
              " '__delattr__',\n",
              " '__delitem__',\n",
              " '__dir__',\n",
              " '__doc__',\n",
              " '__eq__',\n",
              " '__format__',\n",
              " '__ge__',\n",
              " '__getattribute__',\n",
              " '__getitem__',\n",
              " '__gt__',\n",
              " '__hash__',\n",
              " '__init__',\n",
              " '__init_subclass__',\n",
              " '__iter__',\n",
              " '__le__',\n",
              " '__len__',\n",
              " '__lt__',\n",
              " '__ne__',\n",
              " '__new__',\n",
              " '__reduce__',\n",
              " '__reduce_ex__',\n",
              " '__repr__',\n",
              " '__reversed__',\n",
              " '__setattr__',\n",
              " '__setitem__',\n",
              " '__sizeof__',\n",
              " '__str__',\n",
              " '__subclasshook__',\n",
              " 'clear',\n",
              " 'copy',\n",
              " 'fromkeys',\n",
              " 'get',\n",
              " 'items',\n",
              " 'keys',\n",
              " 'pop',\n",
              " 'popitem',\n",
              " 'setdefault',\n",
              " 'update',\n",
              " 'values']"
            ]
          },
          "metadata": {},
          "execution_count": 1
        }
      ]
    },
    {
      "cell_type": "markdown",
      "source": [
        "### **(2) eval**\n",
        "\n",
        "* `eval(str)`\n",
        "\n",
        "\n",
        "이 함수는 문자열을 코드로 바꿔 줍니다. 예를 들어 봅시다. 문자열 '1+2'는 연산한 값이 아니라 문자 그대로의 집합일 뿐입니다. 이를 `eval` 함수에 넣어보겠습니다. \n",
        "\n",
        "```\n",
        "s = '1+2'\n",
        "eval(s)\n",
        "```"
      ],
      "metadata": {
        "id": "uZ17CgW8eJVQ"
      }
    },
    {
      "cell_type": "code",
      "source": [
        "s = '1+2'\n",
        "eval(s)"
      ],
      "metadata": {
        "id": "zpOgScbbeuzn",
        "outputId": "22857274-0944-4c20-a01d-3ab64d358bcf",
        "colab": {
          "base_uri": "https://localhost:8080/"
        }
      },
      "execution_count": 1,
      "outputs": [
        {
          "output_type": "execute_result",
          "data": {
            "text/plain": [
              "3"
            ]
          },
          "metadata": {},
          "execution_count": 1
        }
      ]
    },
    {
      "cell_type": "markdown",
      "source": [
        "보시다 시피 문자열이 코드로 변경되어 1+2 의 결과인 3이 나오는 것을 볼수 있습니다. `eval(s)`의 타입 또한 정수 자료형이 `int`가 됩니다. \n",
        "\n",
        "이 함수는 익혀두면 유용하게 쓰일 수 있습니다. 특히 사용자의 입력을 받아서 사용할 때는 대부분 문자열로 받게 되는데 이를 바로 코드화 시키기 유용합니다.\n",
        "\n",
        "```\n",
        "a = [1,2,3]\n",
        "s = input('a 를 입력하세요: ')\n",
        "eval(s)\n",
        "```"
      ],
      "metadata": {
        "id": "ztMwzdjbewBP"
      }
    },
    {
      "cell_type": "code",
      "source": [
        "a = [1,2,3]\n",
        "s = input('a 를 입력하세요: ')\n",
        "eval(s)"
      ],
      "metadata": {
        "id": "lUWIDhc9fOOH",
        "outputId": "d7d36496-170d-404b-b510-8c711e51ca11",
        "colab": {
          "base_uri": "https://localhost:8080/"
        }
      },
      "execution_count": 2,
      "outputs": [
        {
          "name": "stdout",
          "output_type": "stream",
          "text": [
            "a 를 입력하세요: a\n"
          ]
        },
        {
          "output_type": "execute_result",
          "data": {
            "text/plain": [
              "[1, 2, 3]"
            ]
          },
          "metadata": {},
          "execution_count": 2
        }
      ]
    },
    {
      "cell_type": "markdown",
      "source": [
        "### **(3) filter**\n",
        "\n",
        "* `filter( function, sequence)`\n",
        "\n",
        "이 때 함수는 True 혹은 False를 반환합니다. 그리고 filter는 sequence 중 True 인 값만 반환합니다. 아래 예시를 봅시다.\n",
        "\n",
        "`odd` 함수는 홀수 인지 판별 하여 홀수면 `True`를 짝수면 `False`를 반환합니다.\n",
        "\n",
        "`filter` 함수는 리스트 값들 중 `True`값에 해당하는 홀수 값들만 반환합니다.\n",
        "\n",
        "```\n",
        "def upper3(x):\n",
        "  return x>3\n",
        "\n",
        "list(filter(upper3, [1,2,3,4,5]))\n",
        "```"
      ],
      "metadata": {
        "id": "Kam7Fd5xjNwI"
      }
    },
    {
      "cell_type": "code",
      "source": [
        "def upper3(x):\n",
        "  return x>3\n",
        "\n",
        "list(filter(upper3, [1,2,3,4,5]))"
      ],
      "metadata": {
        "id": "Q81qumRmjif2",
        "outputId": "7da44e95-5590-4519-d673-a998438ec4d4",
        "colab": {
          "base_uri": "https://localhost:8080/"
        }
      },
      "execution_count": 12,
      "outputs": [
        {
          "output_type": "execute_result",
          "data": {
            "text/plain": [
              "[4, 5]"
            ]
          },
          "metadata": {},
          "execution_count": 12
        }
      ]
    },
    {
      "cell_type": "markdown",
      "source": [
        "### **(4) map**\n",
        "\n",
        "* `map( function, sequence)`\n",
        "\n",
        "군집자료형에 있는 요소들을 차례대로 함수 (def)에 넣고 반환 값을 리스트로 돌려줍니다. \n",
        "\n",
        "아래 코드를 실행해 위에서 배운 `filter`와 다른점이 무엇인지 살펴봅시다.\n",
        "\n",
        "```\n",
        "def upper3(x):\n",
        "  return x>3\n",
        "\n",
        "list(map(upper3, [1,2,3,4,5]))\n",
        "```"
      ],
      "metadata": {
        "id": "q_kivW39k3Rx"
      }
    },
    {
      "cell_type": "code",
      "source": [
        "def upper3(x):\n",
        "  return x>3\n",
        "\n",
        "list(filter(upper3, [1,2,3,4,5]))"
      ],
      "metadata": {
        "id": "DD8a2PLuk3Ry",
        "outputId": "96936706-62a2-4774-965b-a17fbd9efc87",
        "colab": {
          "base_uri": "https://localhost:8080/"
        }
      },
      "execution_count": 4,
      "outputs": [
        {
          "output_type": "execute_result",
          "data": {
            "text/plain": [
              "[4, 5]"
            ]
          },
          "metadata": {},
          "execution_count": 4
        }
      ]
    },
    {
      "cell_type": "markdown",
      "source": [
        "`filter`함수는 `True`에 해당하는 **인풋**을 걸러서 반환하는 반면,\n",
        "\n",
        "`map`함수는 **아웃풋**을 모두 반환하는 것을 알 수 있습니다. \n",
        "\n",
        "`map`함수를 적절히 사용하면 복잡한 알고리즘도 간단히 표현할 수 있습니다. 아래는 리스트 각 요소들의 제곱값을 구하는 코드입니다. \n",
        "\n",
        "```\n",
        "def square(x):\n",
        "  return x**2\n",
        "\n",
        "list(map(square, [1,2,3]))\n",
        "```\n",
        "\n"
      ],
      "metadata": {
        "id": "GIwOb74ZsA5h"
      }
    },
    {
      "cell_type": "code",
      "source": [
        "def square(x):\n",
        "  return x**2\n",
        "\n",
        "list(map(square, [1,2,3]))"
      ],
      "metadata": {
        "id": "0JLCADhnNR_M",
        "outputId": "4baa2b65-3d9d-47c4-a840-99ff77628698",
        "colab": {
          "base_uri": "https://localhost:8080/"
        }
      },
      "execution_count": 5,
      "outputs": [
        {
          "output_type": "execute_result",
          "data": {
            "text/plain": [
              "[1, 4, 9]"
            ]
          },
          "metadata": {},
          "execution_count": 5
        }
      ]
    },
    {
      "cell_type": "markdown",
      "source": [
        "#### **lambda**\n",
        "\n",
        "`lammda` 는 원래 함수를 생성할 때 쓰이며 `def`와 동일한 역할을 합니다. 다만 `def`와 달리 보통 함수를 한줄로 간결하게 만들 때 사용합니다. `def`를 사용해야 할 정도로 복잡하지 않을 때 주로 쓰입니다. \n",
        "\n",
        "```\n",
        "def plus(a,b):\n",
        "  return a+b\n",
        "```\n",
        "\n",
        "위 함수는 아래와 완전히 동일합니다.\n",
        "\n",
        "```\n",
        "plus = lambda a, b:a+b\n",
        "```\n"
      ],
      "metadata": {
        "id": "GXNRWIyrwQSC"
      }
    },
    {
      "cell_type": "code",
      "source": [
        "plus = lambda a, b:a+b"
      ],
      "metadata": {
        "id": "ea55YTxiwKiS"
      },
      "execution_count": 7,
      "outputs": []
    },
    {
      "cell_type": "markdown",
      "source": [
        "함수를 호출 할 때는 마찬가지로 함수이름 `plus`와 괄호를 함꼐 써줍니다.\n",
        "\n",
        "```\n",
        "plus(1,2)\n",
        "```"
      ],
      "metadata": {
        "id": "9aJBMu5HxAdy"
      }
    },
    {
      "cell_type": "code",
      "source": [
        "plus(1,2)"
      ],
      "metadata": {
        "id": "w8RmnGqLw6KJ",
        "outputId": "cbf33036-8931-4c5f-8d8d-0b85032a3f80",
        "colab": {
          "base_uri": "https://localhost:8080/"
        }
      },
      "execution_count": 8,
      "outputs": [
        {
          "output_type": "execute_result",
          "data": {
            "text/plain": [
              "3"
            ]
          },
          "metadata": {},
          "execution_count": 8
        }
      ]
    },
    {
      "cell_type": "markdown",
      "source": [
        "`lambda`는 특히 `map`과 함께 쓸 때 그 진가를 발휘합니다. \n",
        "`map`(`filter`도 마찬가지)의 특성상 함수를 항상 필요로 하는데 대부분의 경우 함수가 간단한 경우가 많습니다. \n",
        "\n",
        "위 예제 중 시퀀스의 제곱을 구하는 코드를 봅시다.\n",
        "\n",
        "```\n",
        "def square(x):\n",
        "  return x**2\n",
        "\n",
        "list(map(square, [1,2,3]))\n",
        "```\n",
        "\n",
        "이 코드는 `lambda`를 이용하면 아래와 같이 작성 할 수 있습니다.\n",
        "\n",
        "\n",
        "```\n",
        "square = lambda x: x**2\n",
        "list( map(square, [1,2,3]) )\n",
        "```"
      ],
      "metadata": {
        "id": "yMjg-0JgxYcz"
      }
    },
    {
      "cell_type": "code",
      "source": [
        "square = lambda x: x**2\n",
        "list(map(square,[1,2,3]))"
      ],
      "metadata": {
        "id": "N8kM2Wr6xGp5",
        "outputId": "904844e9-6998-43dd-83a4-b3421f1f17e5",
        "colab": {
          "base_uri": "https://localhost:8080/"
        }
      },
      "execution_count": 10,
      "outputs": [
        {
          "output_type": "execute_result",
          "data": {
            "text/plain": [
              "[1, 4, 9]"
            ]
          },
          "metadata": {},
          "execution_count": 10
        }
      ]
    },
    {
      "cell_type": "markdown",
      "source": [
        "함수를 바인딩 하지 않으면 아래와 같이 한줄로 작성하는 것도 가능합니다. \n",
        "\n",
        "```\n",
        "list( map(lambda x: x**2, [1,2,3]) )\n",
        "```"
      ],
      "metadata": {
        "id": "kU35j4XmyUd7"
      }
    },
    {
      "cell_type": "code",
      "source": [
        "list( map(lambda x: x**2, [1,2,3]) )"
      ],
      "metadata": {
        "id": "HoBGMstPyQPi",
        "outputId": "ce18a06b-6fdb-4428-daee-a1b8ed756d7a",
        "colab": {
          "base_uri": "https://localhost:8080/"
        }
      },
      "execution_count": 14,
      "outputs": [
        {
          "output_type": "execute_result",
          "data": {
            "text/plain": [
              "[1, 4, 9]"
            ]
          },
          "metadata": {},
          "execution_count": 14
        }
      ]
    },
    {
      "cell_type": "markdown",
      "source": [
        "`filter` 함수와도 함께 쓸 수 있습니다. 위에서 3보다 큰 숫자들만 반환하는 코드를 작성해 보았습니다.\n",
        "\n",
        "```\n",
        "def upper3(x):\n",
        "  return x>3\n",
        "\n",
        "list(filter(upper3, [1,2,3,4,5]))\n",
        "```\n",
        "\n",
        "이를 `lambda`를 사용해서 아래와 같이 한줄로 표현할 수 있습니다.\n",
        "\n",
        "```\n",
        "list(filter(lambda x: x>3, [1,2,3,4,5]))\n",
        "```"
      ],
      "metadata": {
        "id": "9HoW8Xtuv8in"
      }
    },
    {
      "cell_type": "code",
      "source": [
        "list(filter(lambda x: x>3, [1,2,3,4,5]))"
      ],
      "metadata": {
        "id": "upgi0jxqwQx-",
        "outputId": "43765e90-3439-4f4c-8b34-d7811c252162",
        "colab": {
          "base_uri": "https://localhost:8080/"
        }
      },
      "execution_count": 15,
      "outputs": [
        {
          "output_type": "execute_result",
          "data": {
            "text/plain": [
              "[4, 5]"
            ]
          },
          "metadata": {},
          "execution_count": 15
        }
      ]
    },
    {
      "cell_type": "markdown",
      "source": [
        "## 문제 풀이\n",
        "---"
      ],
      "metadata": {
        "id": "vWphXr9jTAsO"
      }
    },
    {
      "cell_type": "markdown",
      "source": [
        "\n",
        "**예제 01**\n",
        "\n",
        "리스트 자료형에  관련된 변수 혹은 함수를 출력해 보세요.\n"
      ],
      "metadata": {
        "id": "u98zs4LITAyC"
      }
    },
    {
      "cell_type": "code",
      "source": [
        "list = []"
      ],
      "metadata": {
        "id": "IiaxggF-TEit"
      },
      "execution_count": null,
      "outputs": []
    },
    {
      "cell_type": "markdown",
      "source": [
        "**예제 02**\n",
        "\n",
        "계산기를 만듭니다. 사용자는 `input()` 을 통해 계산식을 입력합니다.\n",
        "\n",
        "* 예시\n",
        "```\n",
        ">> 계산식을 쓰세요: 1+2*5\n",
        "1+2*5 의 결과는 11 입니다.\n",
        "```\n"
      ],
      "metadata": {
        "id": "cLDLKc-mzgTU"
      }
    },
    {
      "cell_type": "code",
      "source": [
        "test = str(input(\"계산식을 쓰세요:\"))\n",
        "print(str(test)+\"의 결과는 \"+str(eval(test))+\"입니다.\")"
      ],
      "metadata": {
        "id": "ojaYTStqyiMq",
        "outputId": "52ef66ac-f1a6-4382-949e-5c1d914e90ae",
        "colab": {
          "base_uri": "https://localhost:8080/"
        }
      },
      "execution_count": null,
      "outputs": [
        {
          "output_type": "stream",
          "name": "stdout",
          "text": [
            "계산식을 쓰세요:1+2*5\n",
            "1+2*5의 결과는 11입니다.\n"
          ]
        }
      ]
    },
    {
      "cell_type": "markdown",
      "source": [
        "**[정의] 03~06**\n",
        "\n",
        "아래와 같이 `long_list`를 정의하세요.\n",
        "\n",
        "```\n",
        "long_list = [5,3,2,3,4,3,4,5,6,67,7,5,3,4,32,24,42,5,6,8,5,5,5,5,3,3,3,56,3,3,6,7,5,8,8,7,34,55,682,232,7,87,8,5,4,32,12,21,2,2,5,4,5,355,2]\n",
        "```"
      ],
      "metadata": {
        "id": "tnlRsLpI80N1"
      }
    },
    {
      "cell_type": "code",
      "source": [
        "long_list = [5,3,2,3,4,3,4,5,6,67,7,5,3,4,32,24,42,5,6,8,5,5,5,5,3,3,3,56,3,3,6,7,5,8,8,7,34,55,682,232,7,87,8,5,4,32,12,21,2,2,5,4,5,355,2]"
      ],
      "metadata": {
        "id": "56zeG4e-80he"
      },
      "execution_count": 32,
      "outputs": []
    },
    {
      "cell_type": "markdown",
      "source": [
        "**예제 03**\n",
        "\n",
        "`long_list`에서 짝수값들만 뽑아서 `even_list`로 정의하세요. **코드 한줄로 작성하세요**\n",
        "\n"
      ],
      "metadata": {
        "id": "TichLlpb0TGr"
      }
    },
    {
      "cell_type": "code",
      "source": [
        "even_list = [i for i in long_list if i % 2 ==0 ]\n",
        "print(even_list)\n"
      ],
      "metadata": {
        "id": "617Nl6Qs0TGr",
        "outputId": "f5510431-63b7-4811-9e10-efbaee95230e",
        "colab": {
          "base_uri": "https://localhost:8080/"
        }
      },
      "execution_count": null,
      "outputs": [
        {
          "output_type": "stream",
          "name": "stdout",
          "text": [
            "[2, 4, 4, 6, 4, 32, 24, 42, 6, 8, 56, 6, 8, 8, 34, 682, 232, 8, 4, 32, 12, 2, 2, 4, 2]\n"
          ]
        }
      ]
    },
    {
      "cell_type": "markdown",
      "source": [
        "**예제 04**\n",
        "\n",
        "`long_list`에서 5의 배수들만 뽑아서 `list_5`로 정의하세요. **코드 한줄로 작성하세요**\n"
      ],
      "metadata": {
        "id": "CmQQRzJx1bP8"
      }
    },
    {
      "cell_type": "code",
      "source": [
        "list_5 = [i for i in long_list if i % 5 ==0 ]\n",
        "print(list_5)\n",
        "list(filter(lambda x: x % 5 == 0, long_list))"
      ],
      "metadata": {
        "id": "Kfcpyx601bP8",
        "outputId": "db074a78-56ec-4339-a58d-66a9443ef969",
        "colab": {
          "base_uri": "https://localhost:8080/"
        }
      },
      "execution_count": 33,
      "outputs": [
        {
          "output_type": "stream",
          "name": "stdout",
          "text": [
            "[5, 5, 5, 5, 5, 5, 5, 5, 5, 55, 5, 5, 5, 355]\n"
          ]
        },
        {
          "output_type": "execute_result",
          "data": {
            "text/plain": [
              "[5, 5, 5, 5, 5, 5, 5, 5, 5, 55, 5, 5, 5, 355]"
            ]
          },
          "metadata": {},
          "execution_count": 33
        }
      ]
    },
    {
      "cell_type": "markdown",
      "source": [
        "**예제 05**\n",
        "\n",
        "`long_list`의 모든 요소에 각각 10을 곱한 값을 구하여 리스트로 반환하세요. **코드 한줄로 작성하세요**"
      ],
      "metadata": {
        "id": "Am34nZS913FT"
      }
    },
    {
      "cell_type": "code",
      "source": [
        "list_10times = [10*i for i in long_list]\n",
        "print(list_10times)"
      ],
      "metadata": {
        "id": "OyrK3jN113FU",
        "outputId": "6adbee9c-05b5-431f-bd0e-ea6274947900",
        "colab": {
          "base_uri": "https://localhost:8080/"
        }
      },
      "execution_count": null,
      "outputs": [
        {
          "output_type": "stream",
          "name": "stdout",
          "text": [
            "[50, 30, 20, 30, 40, 30, 40, 50, 60, 670, 70, 50, 30, 40, 320, 240, 420, 50, 60, 80, 50, 50, 50, 50, 30, 30, 30, 560, 30, 30, 60, 70, 50, 80, 80, 70, 340, 550, 6820, 2320, 70, 870, 80, 50, 40, 320, 120, 210, 20, 20, 50, 40, 50, 3550, 20]\n"
          ]
        }
      ]
    },
    {
      "cell_type": "markdown",
      "source": [
        "**예제 06**\n",
        "\n",
        "`long_list` 모든 요소가 각각 몇자리 숫자인지 구하여 리스트로 반환하세요. **코드 한줄로 작성하세요**"
      ],
      "metadata": {
        "id": "rrEa7yl-2M2r"
      }
    },
    {
      "cell_type": "code",
      "source": [
        "list_num = [len(str(i)) for i in long_list]\n",
        "print(list_num)"
      ],
      "metadata": {
        "id": "trTV-T7E2M2r",
        "outputId": "8cd03764-1ce0-4f7b-cea4-5a0196ab4bcb",
        "colab": {
          "base_uri": "https://localhost:8080/"
        }
      },
      "execution_count": null,
      "outputs": [
        {
          "output_type": "stream",
          "name": "stdout",
          "text": [
            "[1, 1, 1, 1, 1, 1, 1, 1, 1, 2, 1, 1, 1, 1, 2, 2, 2, 1, 1, 1, 1, 1, 1, 1, 1, 1, 1, 2, 1, 1, 1, 1, 1, 1, 1, 1, 2, 2, 3, 3, 1, 2, 1, 1, 1, 2, 2, 2, 1, 1, 1, 1, 1, 3, 1]\n"
          ]
        }
      ]
    },
    {
      "cell_type": "markdown",
      "source": [
        "**예제 07**\n",
        "\n",
        "`map`과 `lambda`를 이용해 한줄의 코드로 구구단 5단을 출력해 보세요. 실행 결과는 아래와 같습니다.\n",
        "\n",
        "\n",
        "```\n",
        "['5 x 1 = 5',\n",
        " '5 x 2 = 10',\n",
        " '5 x 3 = 15',\n",
        " '5 x 4 = 20',\n",
        " '5 x 5 = 25',\n",
        " '5 x 6 = 30',\n",
        " '5 x 7 = 35',\n",
        " '5 x 8 = 40',\n",
        " '5 x 9 = 45']\n",
        "```"
      ],
      "metadata": {
        "id": "LD9mpZGw2iTt"
      }
    },
    {
      "cell_type": "code",
      "source": [
        "list( map(lambda x:'5 x '+str(x)+' = '+ str(5*x), [i for i in range(1,10)]) )"
      ],
      "metadata": {
        "id": "vOUskhbD2iTu",
        "outputId": "65220c6d-3211-4a7f-9a79-bad926265c10",
        "colab": {
          "base_uri": "https://localhost:8080/"
        }
      },
      "execution_count": 19,
      "outputs": [
        {
          "output_type": "execute_result",
          "data": {
            "text/plain": [
              "['5 x 1 = 5',\n",
              " '5 x 2 = 10',\n",
              " '5 x 3 = 15',\n",
              " '5 x 4 = 20',\n",
              " '5 x 5 = 25',\n",
              " '5 x 6 = 30',\n",
              " '5 x 7 = 35',\n",
              " '5 x 8 = 40',\n",
              " '5 x 9 = 45']"
            ]
          },
          "metadata": {},
          "execution_count": 19
        }
      ]
    },
    {
      "cell_type": "markdown",
      "source": [
        "**[정의] 08~10**\n",
        "\n",
        "아래와 같이 물건의 이름과 가격이 적힌 딕셔너리가 있습니다. \n",
        "```\n",
        "mart = {'a': ['apple', 1000], 'b': ['beer', 1200] , 'c' : ['cherry', 2000], 'd':['donut', 1500], 'e': ['egg', 500], 'f' : ['fish', 3000] }\n",
        "```"
      ],
      "metadata": {
        "id": "h_SXbGKc5PT0"
      }
    },
    {
      "cell_type": "code",
      "source": [
        "mart = {'a': ['apple', 1000], 'b': ['beer', 1200] , 'c' : ['cherry', 2000], 'd':['donut', 1500], 'e': ['egg', 500], 'f' : ['fish', 3000] }"
      ],
      "metadata": {
        "id": "YM87Yqe88TUc"
      },
      "execution_count": 20,
      "outputs": []
    },
    {
      "cell_type": "markdown",
      "source": [],
      "metadata": {
        "id": "gpOYDRZEUdOB"
      }
    },
    {
      "cell_type": "markdown",
      "source": [
        "**예제 08**\n",
        "\n",
        "가장 저렴한 값을 구하는 코드를 `map`과 `lambda`를 이용해 한줄로 작성하세요.\n"
      ],
      "metadata": {
        "id": "gmuKcuaw8UVN"
      }
    },
    {
      "cell_type": "code",
      "source": [
        "#min(list(map(lambda x: x,[list(mart.values())[i][1]for i in range(0,len(mart))])))\n",
        "min(list(map(lambda x: x[1], mart.values())))\n",
        "# map 과 lambda는 한 소요씩 int로 받음. 그래서 sorted() , min() 같은 함수는 리스트를 받는 방정식이라서 안됨."
      ],
      "metadata": {
        "id": "mRmXH7jT56SD",
        "outputId": "e9e3a90c-c681-4e5d-e83d-c2be2b28bc0e",
        "colab": {
          "base_uri": "https://localhost:8080/"
        }
      },
      "execution_count": 54,
      "outputs": [
        {
          "output_type": "execute_result",
          "data": {
            "text/plain": [
              "500"
            ]
          },
          "metadata": {},
          "execution_count": 54
        }
      ]
    },
    {
      "cell_type": "code",
      "source": [],
      "metadata": {
        "id": "jJCB4vqSdK2g"
      },
      "execution_count": null,
      "outputs": []
    },
    {
      "cell_type": "markdown",
      "source": [
        "**예제 09**\n",
        "\n",
        "가격의 평균을 구하는 코드를 `map`과 `lambda`를 이용해 한줄로 작성하세요"
      ],
      "metadata": {
        "id": "fotQGh2f8iIN"
      }
    },
    {
      "cell_type": "code",
      "source": [
        "sum(list(map(lambda x: x[1], mart.values())))/len(mart)"
      ],
      "metadata": {
        "id": "8ATN4dmV6cc7",
        "outputId": "7f93b717-cca2-4dcb-d6df-cc4350f8e21f",
        "colab": {
          "base_uri": "https://localhost:8080/"
        }
      },
      "execution_count": 63,
      "outputs": [
        {
          "output_type": "execute_result",
          "data": {
            "text/plain": [
              "1533.3333333333333"
            ]
          },
          "metadata": {},
          "execution_count": 63
        }
      ]
    },
    {
      "cell_type": "markdown",
      "source": [
        "**예제 10**\n",
        "\n",
        "다음과 같은 출력을 하는 코드를 작성해보세요. 가능하다면 코드 한줄로 작성해 보세요.\n",
        "\n",
        "```\n",
        "a is apple, b is beer, c is cherry, d is donut, e is egg\n",
        "```\n",
        "\n",
        "`hint`\n",
        "  * `print`\n",
        "  * `join`\n",
        "  * `list`\n",
        "  * `map`\n",
        "  * `lambda`\n",
        "  * `.keys()`"
      ],
      "metadata": {
        "id": "Y7uHNJEbySNT"
      }
    },
    {
      "cell_type": "code",
      "source": [
        "print(', '.join(list(map(lambda x: f'{x} is {mart[x][0]}', list(mart.keys())[:-1] ))))"
      ],
      "metadata": {
        "id": "VzFuLsFdySNY",
        "outputId": "233aa948-d420-4ef9-8100-92611fe5a873",
        "colab": {
          "base_uri": "https://localhost:8080/"
        }
      },
      "execution_count": 64,
      "outputs": [
        {
          "output_type": "stream",
          "name": "stdout",
          "text": [
            "a is apple, b is beer, c is cherry, d is donut, e is egg\n"
          ]
        }
      ]
    }
  ]
}